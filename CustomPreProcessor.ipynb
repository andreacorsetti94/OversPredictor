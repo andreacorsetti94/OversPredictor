{
 "cells": [
  {
   "cell_type": "code",
   "execution_count": 16,
   "metadata": {},
   "outputs": [],
   "source": [
    "import pandas as pd\n",
    "import numpy as np\n",
    "from sklearn.utils import shuffle"
   ]
  },
  {
   "cell_type": "code",
   "execution_count": 19,
   "metadata": {},
   "outputs": [],
   "source": [
    "\"\"\"\n",
    "This class is responsible for taken a csv, pre-processing the data, shuffling it, scaling the inputs and\n",
    "returning a triple composed by the dataset, the scaled inputs, and the binary target \n",
    "(if Match is Over 2.5, target is 1, 0 otherwise)\n",
    "\"\"\"\n",
    "class CustomPreProcessor:\n",
    "    \n",
    "    def __init__(self, csv_file):\n",
    "        self.csv_file = csv_file\n",
    "    \n",
    "    \"\"\"\n",
    "    This method:\n",
    "    - reads the csv file\n",
    "    - creates the target column from the total match goals column\n",
    "    - drops the total goals column\n",
    "    - shuffles the dataset randomly\n",
    "    - extract the input columns and the target column\n",
    "    - scale the inputs\n",
    "    - drop unnecessary columns\n",
    "    Returns the pre_processed data, the scaled inputs and the targets\n",
    "    \"\"\"\n",
    "    def pre_process(self, inputs_index_begin, scaler):\n",
    "        raw_dataset = pd.read_csv(self.csv_file)\n",
    "        dataset = raw_dataset.copy()\n",
    "        \n",
    "        tgts = np.where(dataset['Tot_Goals'] > 2, 1, 0)\n",
    "        dataset['Over2.5'] = tgts\n",
    "        dataset.drop('Tot_Goals', axis=1, inplace=True)\n",
    "        \n",
    "        shuffled_data = shuffle(dataset)\n",
    "        \n",
    "        inputs = shuffled_data.iloc[:,inputs_index_begin:-1]\n",
    "        targets = shuffled_data.iloc[:,-1]\n",
    "        \n",
    "        scaler.fit(inputs)\n",
    "        scaled_inputs = scaler.transform(inputs)\n",
    "        \n",
    "        shuffled_data.iloc[:,3:-1] = scaled_inputs\n",
    "        \n",
    "        to_drop = ['match_id','home','away']\n",
    "        shuffled_data.drop(to_drop, axis=1, inplace=True)\n",
    "\n",
    "        return shuffled_data, scaled_inputs, targets"
   ]
  }
 ],
 "metadata": {
  "kernelspec": {
   "display_name": "Python 3",
   "language": "python",
   "name": "python3"
  },
  "language_info": {
   "codemirror_mode": {
    "name": "ipython",
    "version": 3
   },
   "file_extension": ".py",
   "mimetype": "text/x-python",
   "name": "python",
   "nbconvert_exporter": "python",
   "pygments_lexer": "ipython3",
   "version": "3.7.6"
  }
 },
 "nbformat": 4,
 "nbformat_minor": 4
}
